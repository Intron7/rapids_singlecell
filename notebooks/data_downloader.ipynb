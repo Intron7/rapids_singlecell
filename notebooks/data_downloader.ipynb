{
 "cells": [
  {
   "cell_type": "markdown",
   "id": "fitting-amazon",
   "metadata": {},
   "source": [
    "# Setup of the AnnData object\n",
    "**Author:** [Severin Dicks](https://github.com/Intron7) (IBSM Freiburg)"
   ]
  },
  {
   "cell_type": "markdown",
   "id": "strategic-cincinnati",
   "metadata": {},
   "source": [
    "This notebook is just download and sets up the AnnData object (https://anndata.readthedocs.io/en/latest/index.html) we will be working with. In this example workflow we'll be looking at a dataset from [Quin et al., Cell Research 2020](https://www.nature.com/articles/s41422-020-0355-0). "
   ]
  },
  {
   "cell_type": "code",
   "execution_count": 1,
   "id": "noticed-living",
   "metadata": {},
   "outputs": [],
   "source": [
    "import wget\n",
    "import scanpy as sc\n",
    "import os\n",
    "import tarfile\n",
    "import pandas as pd"
   ]
  },
  {
   "cell_type": "markdown",
   "id": "israeli-falls",
   "metadata": {},
   "source": [
    "First we download the countmartix and metadata file from the Lambrechts lab website."
   ]
  },
  {
   "cell_type": "code",
   "execution_count": 2,
   "id": "about-procurement",
   "metadata": {},
   "outputs": [],
   "source": [
    "count_file = './data/LC_counts.tar.gz'\n",
    "if not os.path.exists(count_file):\n",
    "    os.makedirs(\"./data\",exist_ok=True)\n",
    "    wget.download(\"http://blueprint.lambrechtslab.org/download/LC_counts.tar.gz\", out=\"./data\")\n",
    "    wget.download(\"http://blueprint.lambrechtslab.org/download/LC_metadata.csv.gz\", out=\"./data\")"
   ]
  },
  {
   "cell_type": "markdown",
   "id": "armed-penalty",
   "metadata": {},
   "source": [
    "We than decompress the data."
   ]
  },
  {
   "cell_type": "code",
   "execution_count": 3,
   "id": "voluntary-calcium",
   "metadata": {},
   "outputs": [],
   "source": [
    "tar = tarfile.open(count_file, \"r:gz\")\n",
    "tar.extractall(\"./data\")\n",
    "tar.close()"
   ]
  },
  {
   "cell_type": "markdown",
   "id": "equipped-advice",
   "metadata": {},
   "source": [
    "Now we can start creating our AnnData object with scanpy (https://scanpy.readthedocs.io/en/stable/index.html)."
   ]
  },
  {
   "cell_type": "code",
   "execution_count": 4,
   "id": "necessary-ranking",
   "metadata": {},
   "outputs": [],
   "source": [
    "adata = sc.read_10x_mtx(\"./data/export/LC_counts/\")"
   ]
  },
  {
   "cell_type": "markdown",
   "id": "according-cabin",
   "metadata": {},
   "source": [
    "Next we have to append the metadata to `adata.obs`."
   ]
  },
  {
   "cell_type": "code",
   "execution_count": 5,
   "id": "informed-lingerie",
   "metadata": {},
   "outputs": [],
   "source": [
    "obs_df = pd.read_csv(\"./data/LC_metadata.csv.gz\",compression=\"gzip\", index_col=0)"
   ]
  },
  {
   "cell_type": "code",
   "execution_count": 6,
   "id": "beneficial-delight",
   "metadata": {},
   "outputs": [
    {
     "data": {
      "text/html": [
       "<div>\n",
       "<style scoped>\n",
       "    .dataframe tbody tr th:only-of-type {\n",
       "        vertical-align: middle;\n",
       "    }\n",
       "\n",
       "    .dataframe tbody tr th {\n",
       "        vertical-align: top;\n",
       "    }\n",
       "\n",
       "    .dataframe thead th {\n",
       "        text-align: right;\n",
       "    }\n",
       "</style>\n",
       "<table border=\"1\" class=\"dataframe\">\n",
       "  <thead>\n",
       "    <tr style=\"text-align: right;\">\n",
       "      <th></th>\n",
       "      <th>nGene</th>\n",
       "      <th>nUMI</th>\n",
       "      <th>CellFromTumor</th>\n",
       "      <th>PatientNumber</th>\n",
       "      <th>TumorType</th>\n",
       "      <th>TumorSite</th>\n",
       "      <th>CellType</th>\n",
       "    </tr>\n",
       "    <tr>\n",
       "      <th>Cell</th>\n",
       "      <th></th>\n",
       "      <th></th>\n",
       "      <th></th>\n",
       "      <th></th>\n",
       "      <th></th>\n",
       "      <th></th>\n",
       "      <th></th>\n",
       "    </tr>\n",
       "  </thead>\n",
       "  <tbody>\n",
       "    <tr>\n",
       "      <th>BT1238_AAATCAACTGCCTC</th>\n",
       "      <td>897</td>\n",
       "      <td>3227</td>\n",
       "      <td>True</td>\n",
       "      <td>1</td>\n",
       "      <td>Lung</td>\n",
       "      <td>I</td>\n",
       "      <td>Cancer</td>\n",
       "    </tr>\n",
       "    <tr>\n",
       "      <th>BT1238_AACATTGACCTAAG</th>\n",
       "      <td>509</td>\n",
       "      <td>731</td>\n",
       "      <td>True</td>\n",
       "      <td>1</td>\n",
       "      <td>Lung</td>\n",
       "      <td>I</td>\n",
       "      <td>Cancer</td>\n",
       "    </tr>\n",
       "    <tr>\n",
       "      <th>BT1238_AACCAGTGCTTAGG</th>\n",
       "      <td>642</td>\n",
       "      <td>2958</td>\n",
       "      <td>True</td>\n",
       "      <td>1</td>\n",
       "      <td>Lung</td>\n",
       "      <td>I</td>\n",
       "      <td>Myeloid</td>\n",
       "    </tr>\n",
       "    <tr>\n",
       "      <th>BT1238_AACCTACTCGCTAA</th>\n",
       "      <td>925</td>\n",
       "      <td>2781</td>\n",
       "      <td>True</td>\n",
       "      <td>1</td>\n",
       "      <td>Lung</td>\n",
       "      <td>I</td>\n",
       "      <td>T_cell</td>\n",
       "    </tr>\n",
       "    <tr>\n",
       "      <th>BT1238_AACTCTTGCTGTAG</th>\n",
       "      <td>713</td>\n",
       "      <td>3000</td>\n",
       "      <td>True</td>\n",
       "      <td>1</td>\n",
       "      <td>Lung</td>\n",
       "      <td>I</td>\n",
       "      <td>T_cell</td>\n",
       "    </tr>\n",
       "    <tr>\n",
       "      <th>...</th>\n",
       "      <td>...</td>\n",
       "      <td>...</td>\n",
       "      <td>...</td>\n",
       "      <td>...</td>\n",
       "      <td>...</td>\n",
       "      <td>...</td>\n",
       "      <td>...</td>\n",
       "    </tr>\n",
       "    <tr>\n",
       "      <th>scrBT1432_TTTGGTTCATTCTCAT</th>\n",
       "      <td>1419</td>\n",
       "      <td>5192</td>\n",
       "      <td>True</td>\n",
       "      <td>8</td>\n",
       "      <td>Lung</td>\n",
       "      <td>I</td>\n",
       "      <td>T_cell</td>\n",
       "    </tr>\n",
       "    <tr>\n",
       "      <th>scrBT1432_TTTGGTTGTTGGTGGA</th>\n",
       "      <td>398</td>\n",
       "      <td>585</td>\n",
       "      <td>True</td>\n",
       "      <td>8</td>\n",
       "      <td>Lung</td>\n",
       "      <td>I</td>\n",
       "      <td>T_cell</td>\n",
       "    </tr>\n",
       "    <tr>\n",
       "      <th>scrBT1432_TTTGTCACACATGTGT</th>\n",
       "      <td>625</td>\n",
       "      <td>1760</td>\n",
       "      <td>True</td>\n",
       "      <td>8</td>\n",
       "      <td>Lung</td>\n",
       "      <td>I</td>\n",
       "      <td>T_cell</td>\n",
       "    </tr>\n",
       "    <tr>\n",
       "      <th>scrBT1432_TTTGTCAGTACGAAAT</th>\n",
       "      <td>284</td>\n",
       "      <td>491</td>\n",
       "      <td>True</td>\n",
       "      <td>8</td>\n",
       "      <td>Lung</td>\n",
       "      <td>I</td>\n",
       "      <td>Myeloid</td>\n",
       "    </tr>\n",
       "    <tr>\n",
       "      <th>scrBT1432_TTTGTCATCGCGGATC</th>\n",
       "      <td>766</td>\n",
       "      <td>6131</td>\n",
       "      <td>True</td>\n",
       "      <td>8</td>\n",
       "      <td>Lung</td>\n",
       "      <td>I</td>\n",
       "      <td>B_cell</td>\n",
       "    </tr>\n",
       "  </tbody>\n",
       "</table>\n",
       "<p>93575 rows × 7 columns</p>\n",
       "</div>"
      ],
      "text/plain": [
       "                            nGene  nUMI  CellFromTumor  PatientNumber  \\\n",
       "Cell                                                                    \n",
       "BT1238_AAATCAACTGCCTC         897  3227           True              1   \n",
       "BT1238_AACATTGACCTAAG         509   731           True              1   \n",
       "BT1238_AACCAGTGCTTAGG         642  2958           True              1   \n",
       "BT1238_AACCTACTCGCTAA         925  2781           True              1   \n",
       "BT1238_AACTCTTGCTGTAG         713  3000           True              1   \n",
       "...                           ...   ...            ...            ...   \n",
       "scrBT1432_TTTGGTTCATTCTCAT   1419  5192           True              8   \n",
       "scrBT1432_TTTGGTTGTTGGTGGA    398   585           True              8   \n",
       "scrBT1432_TTTGTCACACATGTGT    625  1760           True              8   \n",
       "scrBT1432_TTTGTCAGTACGAAAT    284   491           True              8   \n",
       "scrBT1432_TTTGTCATCGCGGATC    766  6131           True              8   \n",
       "\n",
       "                           TumorType TumorSite CellType  \n",
       "Cell                                                     \n",
       "BT1238_AAATCAACTGCCTC           Lung         I   Cancer  \n",
       "BT1238_AACATTGACCTAAG           Lung         I   Cancer  \n",
       "BT1238_AACCAGTGCTTAGG           Lung         I  Myeloid  \n",
       "BT1238_AACCTACTCGCTAA           Lung         I   T_cell  \n",
       "BT1238_AACTCTTGCTGTAG           Lung         I   T_cell  \n",
       "...                              ...       ...      ...  \n",
       "scrBT1432_TTTGGTTCATTCTCAT      Lung         I   T_cell  \n",
       "scrBT1432_TTTGGTTGTTGGTGGA      Lung         I   T_cell  \n",
       "scrBT1432_TTTGTCACACATGTGT      Lung         I   T_cell  \n",
       "scrBT1432_TTTGTCAGTACGAAAT      Lung         I  Myeloid  \n",
       "scrBT1432_TTTGTCATCGCGGATC      Lung         I   B_cell  \n",
       "\n",
       "[93575 rows x 7 columns]"
      ]
     },
     "execution_count": 6,
     "metadata": {},
     "output_type": "execute_result"
    }
   ],
   "source": [
    "obs_df"
   ]
  },
  {
   "cell_type": "markdown",
   "id": "iraqi-evanescence",
   "metadata": {},
   "source": [
    "In this case `adata.obs` and the meta_data in `obs_df` have the identical number of cells and the cell barcodes are in the same order. We can therefore just replace `.obs` with `obs_df`"
   ]
  },
  {
   "cell_type": "code",
   "execution_count": 7,
   "id": "conscious-camping",
   "metadata": {},
   "outputs": [],
   "source": [
    "adata.obs = obs_df"
   ]
  },
  {
   "cell_type": "markdown",
   "id": "guided-height",
   "metadata": {},
   "source": [
    "Since `PatientNumber` is a category and not a numerical value we have to change its type. In some cases scanpy doesn't like integers as categories. So we convert it to `str`"
   ]
  },
  {
   "cell_type": "code",
   "execution_count": 8,
   "id": "iraqi-clone",
   "metadata": {},
   "outputs": [],
   "source": [
    "adata.obs.PatientNumber = adata.obs.PatientNumber.astype(str)"
   ]
  },
  {
   "cell_type": "markdown",
   "id": "atlantic-brain",
   "metadata": {},
   "source": [
    "During the saving of the adata object string based columns in `.obs` are transformed are changed into categorical data."
   ]
  },
  {
   "cell_type": "code",
   "execution_count": 9,
   "id": "considered-labor",
   "metadata": {},
   "outputs": [
    {
     "name": "stderr",
     "output_type": "stream",
     "text": [
      "... storing 'PatientNumber' as categorical\n",
      "... storing 'TumorType' as categorical\n",
      "... storing 'TumorSite' as categorical\n",
      "... storing 'CellType' as categorical\n"
     ]
    }
   ],
   "source": [
    "os.makedirs(\"./h5\",exist_ok=True)\n",
    "adata.write(\"./h5/adata.raw.h5ad\")"
   ]
  },
  {
   "cell_type": "markdown",
   "id": "numeric-palace",
   "metadata": {},
   "source": [
    "If you want to you can now delete the \"./data\" folder since we won't need it anymore"
   ]
  },
  {
   "cell_type": "code",
   "execution_count": null,
   "id": "electoral-crest",
   "metadata": {},
   "outputs": [],
   "source": []
  }
 ],
 "metadata": {
  "kernelspec": {
   "display_name": "rapids-0.20",
   "language": "python",
   "name": "rapids-0.20"
  },
  "language_info": {
   "codemirror_mode": {
    "name": "ipython",
    "version": 3
   },
   "file_extension": ".py",
   "mimetype": "text/x-python",
   "name": "python",
   "nbconvert_exporter": "python",
   "pygments_lexer": "ipython3",
   "version": "3.8.10"
  }
 },
 "nbformat": 4,
 "nbformat_minor": 5
}
