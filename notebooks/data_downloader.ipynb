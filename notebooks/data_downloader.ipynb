{
 "cells": [
  {
   "cell_type": "markdown",
   "id": "gothic-graduate",
   "metadata": {},
   "source": [
    "# Setup of the AnnData object\n",
    "**Author:** [Severin Dicks](https://github.com/Intron7) (IBSM Freiburg)"
   ]
  },
  {
   "cell_type": "markdown",
   "id": "running-recipe",
   "metadata": {},
   "source": [
    "This notebook is just downloader and sets up the AnnData object (https://anndata.readthedocs.io/en/latest/index.html) we will be working with. In this example workflow we'll be looking at a dataset of ca. 90000 cells from lungcancer patients published by [Quin et al., Cell Research 2020](https://www.nature.com/articles/s41422-020-0355-0). "
   ]
  },
  {
   "cell_type": "code",
   "execution_count": 1,
   "id": "coral-paraguay",
   "metadata": {},
   "outputs": [
    {
     "data": {
      "text/plain": [
       "'./h5/adata.raw.h5ad'"
      ]
     },
     "execution_count": 1,
     "metadata": {},
     "output_type": "execute_result"
    }
   ],
   "source": [
    "import gdown\n",
    "import os\n",
    "url = 'https://drive.google.com/uc?id=1eoK0m2ML1uNLc80L6yBuPrkJqsDF-QWj'\n",
    "os.makedirs(\"./h5\",exist_ok=True)\n",
    "output = './h5/adata.raw.h5ad'\n",
    "gdown.download(url, output, quiet=True)"
   ]
  }
 ],
 "metadata": {
  "interpreter": {
   "hash": "b70383e23f09abfebb324225aa0a73f4c8adec9f01b8b9679b19e76c26fcd2e4"
  },
  "kernelspec": {
   "display_name": "rapids-21.08",
   "language": "python",
   "name": "rapids-21.08"
  },
  "language_info": {
   "codemirror_mode": {
    "name": "ipython",
    "version": 3
   },
   "file_extension": ".py",
   "mimetype": "text/x-python",
   "name": "python",
   "nbconvert_exporter": "python",
   "pygments_lexer": "ipython3",
   "version": "3.8.10"
  }
 },
 "nbformat": 4,
 "nbformat_minor": 5
}
