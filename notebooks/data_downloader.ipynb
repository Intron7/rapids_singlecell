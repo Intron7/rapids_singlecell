{
 "cells": [
  {
   "cell_type": "markdown",
   "id": "gothic-graduate",
   "metadata": {},
   "source": [
    "# Setup of the AnnData object\n",
    "**Author:** [Severin Dicks](https://github.com/Intron7) (IBSM Freiburg)"
   ]
  },
  {
   "cell_type": "markdown",
   "id": "running-recipe",
   "metadata": {},
   "source": [
    "This notebook is just downloader and sets up the AnnData object (https://anndata.readthedocs.io/en/latest/index.html) we will be working with. In this example workflow we'll be looking at a dataset of ca. 90000 cells from lungcancer patients published by [Quin et al., Cell Research 2020](https://www.nature.com/articles/s41422-020-0355-0). "
   ]
  },
  {
   "cell_type": "code",
   "execution_count": 9,
   "id": "coral-paraguay",
   "metadata": {},
   "outputs": [
    {
     "name": "stderr",
     "output_type": "stream",
     "text": [
      "Downloading...\n",
      "From: https://drive.google.com/uc?id=1eoK0m2ML1uNLc80L6yBuPrkJqsDF-QWj\n",
      "To: /home/sdicks-local/git/rapids_singlecell/notebooks/h5/adata.raw.h5ad\n",
      "100%|██████████| 282M/282M [00:06<00:00, 46.7MB/s] \n"
     ]
    },
    {
     "data": {
      "text/plain": [
       "'./h5/adata.raw.h5ad'"
      ]
     },
     "execution_count": 9,
     "metadata": {},
     "output_type": "execute_result"
    }
   ],
   "source": [
    "import gdown\n",
    "import os\n",
    "url = 'https://drive.google.com/file/d/1eoK0m2ML1uNLc80L6yBuPrkJqsDF-QWj/view?usp=sharing'\n",
    "os.makedirs(\"./h5\",exist_ok=True)\n",
    "output = './h5/adata.raw.h5ad'\n",
    "gdown.download(url, output, quiet=True, fuzzy=True)"
   ]
  },
  {
   "cell_type": "code",
   "execution_count": null,
   "id": "d3472f4a-9f39-4636-bb90-bb5726ebacf8",
   "metadata": {},
   "outputs": [],
   "source": []
  }
 ],
 "metadata": {
  "interpreter": {
   "hash": "b70383e23f09abfebb324225aa0a73f4c8adec9f01b8b9679b19e76c26fcd2e4"
  },
  "kernelspec": {
   "display_name": "alphafold",
   "language": "python",
   "name": "alphafold"
  },
  "language_info": {
   "codemirror_mode": {
    "name": "ipython",
    "version": 3
   },
   "file_extension": ".py",
   "mimetype": "text/x-python",
   "name": "python",
   "nbconvert_exporter": "python",
   "pygments_lexer": "ipython3",
   "version": "3.10.2"
  }
 },
 "nbformat": 4,
 "nbformat_minor": 5
}
